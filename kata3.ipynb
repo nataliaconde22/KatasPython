{
 "cells": [
  {
   "cell_type": "markdown",
   "metadata": {},
   "source": [
    "#Ejercicio - Escribir declaraciones if, else, y elif"
   ]
  },
  {
   "cell_type": "markdown",
   "metadata": {},
   "source": [
    "## Codigo de logica condicional que imprima una advertencia si un asteroide se acerca a la tierra demasiado rápido. La velocidad del asteroide varía dependiendo de lo cerca que esté del sol, y cualquier velocidad superior a 25 km por segundo merece una advertencia.\n",
    "Un asteroide se acerca, y viaja a una velocidad de 49 km/s"
   ]
  },
  {
   "cell_type": "code",
   "execution_count": 3,
   "metadata": {},
   "outputs": [
    {
     "name": "stdout",
     "output_type": "stream",
     "text": [
      "Cuidado, un asteroide se acerca rapido a la tierra\n"
     ]
    }
   ],
   "source": [
    "asteroide = 49\n",
    "\n",
    "if asteroide > 25:\n",
    "    print(\"Cuidado, un asteroide se acerca rapido a la tierra\")\n",
    "else:\n",
    "    print(\"Tierra fuera de peligro\")"
   ]
  },
  {
   "cell_type": "markdown",
   "metadata": {},
   "source": [
    "# Si un asteroide entra en la atmosfera de la tierra a una velocidad mayor o igual a 20 km/s, a veces produce un rayo de luz que se puede ver desde la Tierra. Escribe la lógica condicional que usa declaraciones if, else, y elif para alertar a las personas de todo el mundo que deben buscar un asteroide en el cielo. ¡Hay uno que se dirige a la tierra ahora a una velocidad de 19 km/s!"
   ]
  },
  {
   "cell_type": "code",
   "execution_count": 4,
   "metadata": {},
   "outputs": [
    {
     "name": "stdout",
     "output_type": "stream",
     "text": [
      "No se observa rayo de luz por asteroide\n"
     ]
    }
   ],
   "source": [
    "asteroide = 19\n",
    "\n",
    "if asteroide>20:\n",
    "    print(\"Observe rayo de luz en el cielo\")\n",
    "elif asteroide == 20:\n",
    "    print(\"Observe rayo de luz en el cielo\")\n",
    "else: \n",
    "    print(\"No se observa rayo de luz por asteroide\")\n"
   ]
  },
  {
   "cell_type": "markdown",
   "metadata": {},
   "source": [
    "# Ejercicio: Uso de operadores and y or"
   ]
  },
  {
   "cell_type": "markdown",
   "metadata": {},
   "source": [
    "# Los asteroide de menos de 25m en su dimensión más grande probablemente se quemarán a medida que entren en la atmosfera de la tierra\n",
    "\n",
    "    Si una pieza de asteroide que es más grande que 25m pero mas pequeña que 1000m golpeara la tierra, causaria mucho daño.\n",
    "\n",
    "    Cualquier velocidad superior a 25km/s merece advertencia\n",
    "\n",
    "    Si un asteroide entra en la atmosfera de la tierra a una velocidad mayor o igual a 20km/s a veces produce un rayo de luz."
   ]
  },
  {
   "cell_type": "code",
   "execution_count": 8,
   "metadata": {},
   "outputs": [
    {
     "name": "stdout",
     "output_type": "stream",
     "text": [
      "Asteroide de peligroso tamaño y velocidad se acerca a la tierra\n"
     ]
    }
   ],
   "source": [
    "velocidad = 30\n",
    "tamano = 26\n",
    "if tamano > 25 and velocidad > 25:\n",
    "    print(\"Asteroide de peligroso tamaño y velocidad se acerca a la tierra\")\n",
    "elif velocidad == 20 or velocidad>20:\n",
    "    print(\"Observe luz magica en el cielo\")\n",
    "elif tamano<25:\n",
    "    print(\"Tierra fuera de peligro\")\n",
    "else:\n",
    "    print(\"Tierra fuera de peligro\")"
   ]
  }
 ],
 "metadata": {
  "interpreter": {
   "hash": "1a549530ed402825595a6d8df4d98ca03fd162776108fb366c6c82790a5be979"
  },
  "kernelspec": {
   "display_name": "Python 3.10.2 ('env': venv)",
   "language": "python",
   "name": "python3"
  },
  "language_info": {
   "codemirror_mode": {
    "name": "ipython",
    "version": 3
   },
   "file_extension": ".py",
   "mimetype": "text/x-python",
   "name": "python",
   "nbconvert_exporter": "python",
   "pygments_lexer": "ipython3",
   "version": "3.10.2"
  },
  "orig_nbformat": 4
 },
 "nbformat": 4,
 "nbformat_minor": 2
}
