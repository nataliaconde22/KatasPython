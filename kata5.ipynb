{
 "cells": [
  {
   "cell_type": "markdown",
   "metadata": {},
   "source": [
    "# Ejercicio 1 - Utilizar operadores aritméticos"
   ]
  },
  {
   "cell_type": "markdown",
   "metadata": {},
   "source": [
    "Programa que pueda calcular la distancia entre dos planetas"
   ]
  },
  {
   "cell_type": "code",
   "execution_count": 6,
   "metadata": {},
   "outputs": [
    {
     "name": "stdout",
     "output_type": "stream",
     "text": [
      "628949330\n",
      "390577533.93\n"
     ]
    }
   ],
   "source": [
    "tierra = 149597870\n",
    "jupiter = 778547200\n",
    "\n",
    "distanciakm = jupiter - tierra\n",
    "distanciamillas = (jupiter*0.621)-(tierra*0.621)\n",
    "\n",
    "print(distanciakm)\n",
    "print(distanciamillas)\n",
    "\n"
   ]
  },
  {
   "cell_type": "markdown",
   "metadata": {},
   "source": [
    "# Ejercicio 2: convierte cadenas en numeros y usa valores absolutos"
   ]
  },
  {
   "cell_type": "code",
   "execution_count": 10,
   "metadata": {},
   "outputs": [
    {
     "name": "stdout",
     "output_type": "stream",
     "text": [
      "31236300.0\n"
     ]
    }
   ],
   "source": [
    "planeta1 = input('Ingrese la distancia entre el planeta 1 y el sol: ')\n",
    "planeta2 = input('Ingrese la distancia entre el planeta 2y el sol: ')\n",
    "\n",
    "planeta1num = int(planeta1)\n",
    "planeta2num = int(planeta2)\n",
    "\n",
    "distancia1 = planeta2num - planeta1num\n",
    "dist= abs(distancia1)\n",
    "print(dist*0.621)"
   ]
  }
 ],
 "metadata": {
  "interpreter": {
   "hash": "70ac451ed3ef1440a1130f0025849d30de89b55c5925619abdb355821d360158"
  },
  "kernelspec": {
   "display_name": "Python 3.10.2 64-bit (windows store)",
   "language": "python",
   "name": "python3"
  },
  "language_info": {
   "codemirror_mode": {
    "name": "ipython",
    "version": 3
   },
   "file_extension": ".py",
   "mimetype": "text/x-python",
   "name": "python",
   "nbconvert_exporter": "python",
   "pygments_lexer": "ipython3",
   "version": "3.10.2"
  },
  "orig_nbformat": 4
 },
 "nbformat": 4,
 "nbformat_minor": 2
}
