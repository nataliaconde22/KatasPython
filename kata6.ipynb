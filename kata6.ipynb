{
 "cells": [
  {
   "cell_type": "markdown",
   "metadata": {},
   "source": [
    "# Ejercicio1: Crear y usar listas de python"
   ]
  },
  {
   "cell_type": "code",
   "execution_count": 3,
   "metadata": {},
   "outputs": [
    {
     "name": "stdout",
     "output_type": "stream",
     "text": [
      "Numero de planetas: 9\n",
      "Ultimo planeta de la lista: Plutón\n"
     ]
    }
   ],
   "source": [
    "planets = ['Tierra', 'Marte', 'Saturno', 'Jupiter', 'Mercurio', 'Venus', 'Urano', 'Neptuno']\n",
    "\n",
    "#AGREGAMOS PLUTÓN\n",
    "plu = planets.append('Plutón')\n",
    "numero = len(planets)\n",
    "\n",
    "plan = f\"\"\"Numero de planetas: {numero}\n",
    "Ultimo planeta de la lista: {planets[-1]}\"\"\"\n",
    "\n",
    "print(plan)\n"
   ]
  },
  {
   "cell_type": "markdown",
   "metadata": {},
   "source": [
    "#Ejercicio 2: Trabajando con datos de una lista"
   ]
  },
  {
   "cell_type": "code",
   "execution_count": 8,
   "metadata": {},
   "outputs": [
    {
     "name": "stdout",
     "output_type": "stream",
     "text": [
      "Los planetas más cercanos al sol que Marte son:\n",
      "['Mercurio', 'Venus', 'Tierra']\n",
      "Los planetas más alejados del sol que Marte son:\n",
      "['Jupiter', 'Saturno', 'Urano', 'Neptuno']\n"
     ]
    }
   ],
   "source": [
    "planets = ['Mercurio', 'Venus', 'Tierra', 'Marte', 'Jupiter', 'Saturno', 'Urano', 'Neptuno', 'Plutón']\n",
    "\n",
    "usuario = input('Agregue el nombre de un planeta: ')\n",
    "buscar = planets.index(usuario)\n",
    "plan = f\"\"\"Los planetas más cercanos al sol que {usuario} son:\n",
    "{planets[0:buscar]}\n",
    "Los planetas más alejados del sol que {usuario} son:\n",
    "{planets[buscar+1:-1]}\"\"\"\n",
    "print(plan)"
   ]
  }
 ],
 "metadata": {
  "interpreter": {
   "hash": "70ac451ed3ef1440a1130f0025849d30de89b55c5925619abdb355821d360158"
  },
  "kernelspec": {
   "display_name": "Python 3.10.2 64-bit (windows store)",
   "language": "python",
   "name": "python3"
  },
  "language_info": {
   "codemirror_mode": {
    "name": "ipython",
    "version": 3
   },
   "file_extension": ".py",
   "mimetype": "text/x-python",
   "name": "python",
   "nbconvert_exporter": "python",
   "pygments_lexer": "ipython3",
   "version": "3.10.2"
  },
  "orig_nbformat": 4
 },
 "nbformat": 4,
 "nbformat_minor": 2
}
