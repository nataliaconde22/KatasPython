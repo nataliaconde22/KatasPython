{
 "cells": [
  {
   "cell_type": "markdown",
   "metadata": {},
   "source": [
    "# Ejercicio 1: Transformar cadenas"
   ]
  },
  {
   "cell_type": "markdown",
   "metadata": {},
   "source": [
    "# Divide por frase la cadena"
   ]
  },
  {
   "cell_type": "code",
   "execution_count": 21,
   "metadata": {},
   "outputs": [
    {
     "data": {
      "text/plain": [
       "['Interesting facts about the Moon',\n",
       " \"The Moon is Earth's only satellite\",\n",
       " 'There are several interesting facts about the Moon and how it affects life here on Earth',\n",
       " '\\nOn average, the Moon moves 4cm away from the Earth every year',\n",
       " 'This yearly drift is not significant enough to cause immediate effects on Earth',\n",
       " 'The highest daylight temperature of the Moon is 127 C.']"
      ]
     },
     "execution_count": 21,
     "metadata": {},
     "output_type": "execute_result"
    }
   ],
   "source": [
    "text = \"\"\"Interesting facts about the Moon. The Moon is Earth's only satellite. There are several interesting facts about the Moon and how it affects life here on Earth. \n",
    "On average, the Moon moves 4cm away from the Earth every year. This yearly drift is not significant enough to cause immediate effects on Earth. The highest daylight temperature of the Moon is 127 C.\"\"\"\n",
    "\n",
    "div = text.split('. ')\n",
    "display(div)"
   ]
  },
  {
   "cell_type": "code",
   "execution_count": 23,
   "metadata": {},
   "outputs": [
    {
     "name": "stdout",
     "output_type": "stream",
     "text": [
      "The Moon is Earth's only satellite\n",
      "There are several interesting facts about the Moon and how it affects life here on Earth\n",
      "This yearly drift is not significant enough to cause immediate effects on Earth\n",
      "The highest daylight temperature of the Moon is 127 Celsius.\n"
     ]
    }
   ],
   "source": [
    "## RECORRE LA CADENA PARA ENCONTRAR PALABRAS CLAVE EN LAS ORACIONES\n",
    "pista = [\"average\", \"temperature\", \"distance\"]\n",
    "for sentence in div:\n",
    "   for pista in pista:\n",
    "       if pista in sentence:\n",
    "##Se utiliza replace en la oracion para transformar la medición de temperatura de 'C' a 'Celsius\n",
    "        sen = sentence.replace('C', 'Celsius')\n",
    "        print(sen)\n",
    "        break"
   ]
  },
  {
   "cell_type": "markdown",
   "metadata": {},
   "source": [
    "# Ejercicio 2: Formateando cadenas"
   ]
  },
  {
   "cell_type": "code",
   "execution_count": 6,
   "metadata": {},
   "outputs": [
    {
     "name": "stdout",
     "output_type": "stream",
     "text": [
      "Gravity Facts About Moon\n",
      "--------------------------------------------------\n",
      "Planet Name: earth\n",
      "Gravity on moon: 1.6199999999999999 m/^2\n"
     ]
    }
   ],
   "source": [
    "name = 'moon'\n",
    "gravity = 0.00162 #in kms\n",
    "planet = 'earth'\n",
    "\n",
    "##CREAMOS TITULO\n",
    "titulo = f'Gravity facts about {name}'\n",
    "titulo\n",
    "\n",
    "puntos = f\"\"\"{'-'*50}\n",
    "Planet Name: {planet}\n",
    "Gravity on {name}: {gravity*1000} m/^2\"\"\"\n",
    "\n",
    "titulop = titulo.title()\n",
    "plantilla = f\"\"\"{titulop}\n",
    "{puntos}\"\"\"\n",
    "\n",
    "print(plantilla)"
   ]
  }
 ],
 "metadata": {
  "interpreter": {
   "hash": "1a549530ed402825595a6d8df4d98ca03fd162776108fb366c6c82790a5be979"
  },
  "kernelspec": {
   "display_name": "Python 3.10.2 ('env': venv)",
   "language": "python",
   "name": "python3"
  },
  "language_info": {
   "codemirror_mode": {
    "name": "ipython",
    "version": 3
   },
   "file_extension": ".py",
   "mimetype": "text/x-python",
   "name": "python",
   "nbconvert_exporter": "python",
   "pygments_lexer": "ipython3",
   "version": "3.10.2"
  },
  "orig_nbformat": 4
 },
 "nbformat": 4,
 "nbformat_minor": 2
}
