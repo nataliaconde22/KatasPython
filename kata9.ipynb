{
 "cells": [
  {
   "cell_type": "markdown",
   "metadata": {},
   "source": [
    "# Ejercicio: Uso de funciones en python"
   ]
  },
  {
   "cell_type": "code",
   "execution_count": 5,
   "metadata": {},
   "outputs": [
    {
     "name": "stdout",
     "output_type": "stream",
     "text": [
      "REPORTE\n",
      "    Promedio de combustible: 64.33333333333333%\n",
      "    Tanque 1: 55%\n",
      "    Tanque 2: 60%\n",
      "    Tanque 3: 78%\n"
     ]
    }
   ],
   "source": [
    "#def informes(tanque1, tanque2, tanque3):\n",
    "    #promedio = (tanque1 + tanque2 + tanque3)/3\n",
    "    #return f\"\"\"REPORTE\n",
    "    #Promedio de combustible: {promedio}%\n",
    "    #Tanque 1: {tanque1}%\n",
    "    #Tanque 2: {tanque2}%\n",
    "    #Tanque 3: {tanque3}%\"\"\"\n",
    "#print(informes(55,60,78))\n",
    "\n",
    "#Funcion promedio independiente\n",
    "def promedio(tanques):\n",
    "    suma = sum(tanques)\n",
    "    div = len(tanques)\n",
    "    prom = suma/div\n",
    "    return prom\n",
    "#print(promedio([55,60,78]))\n",
    "\n",
    "#Actualizar función\n",
    "def informes(tanque1, tanque2, tanque3):\n",
    "    return f\"\"\"REPORTE\n",
    "    Promedio de combustible: {promedio([tanque1,tanque2,tanque3])}%\n",
    "    Tanque 1: {tanque1}%\n",
    "    Tanque 2: {tanque2}%\n",
    "    Tanque 3: {tanque3}%\"\"\"\n",
    "print(informes(55,60,78))\n"
   ]
  },
  {
   "cell_type": "markdown",
   "metadata": {},
   "source": [
    "# Ejercicio 2: Trabajo con argumentos de palabra clave"
   ]
  },
  {
   "cell_type": "code",
   "execution_count": 6,
   "metadata": {},
   "outputs": [
    {
     "name": "stdout",
     "output_type": "stream",
     "text": [
      "Reporte\n",
      "    Tiempo de vuelo: 80 minutos\n",
      "    Destino: cancun\n",
      "    Combustible total: 5000 galones\n"
     ]
    }
   ],
   "source": [
    "def informe(horapre, tiempo, destino, tanquext, tanqueint):\n",
    "    return f\"\"\"Reporte\n",
    "    Tiempo de vuelo: {horapre+tiempo} minutos\n",
    "    Destino: {destino}\n",
    "    Combustible total: {tanquext+tanqueint} galones\"\"\"\n",
    "print(informe(20,60,'cancun',3000,2000))"
   ]
  },
  {
   "cell_type": "code",
   "execution_count": 10,
   "metadata": {},
   "outputs": [
    {
     "name": "stdout",
     "output_type": "stream",
     "text": [
      "Reporte\n",
      "    Tiempo de vuelo: 160 minutos\n",
      "    Destino: cancun\n",
      "    Combustible total: 5000 galones\n"
     ]
    }
   ],
   "source": [
    "#Actualización\n",
    "def informe(destino, *tiempo,**totaltan):\n",
    "    return f\"\"\"Reporte\n",
    "    Tiempo de vuelo: {sum(tiempo)} minutos\n",
    "    Destino: {destino}\n",
    "    Combustible total: {sum(totaltan.values())} galones\"\"\"\n",
    "print(informe('cancun',20,60,80,ext=3000,int=2000))"
   ]
  },
  {
   "cell_type": "code",
   "execution_count": 16,
   "metadata": {},
   "outputs": [
    {
     "name": "stdout",
     "output_type": "stream",
     "text": [
      "Reporte\n",
      "    Tiempo de vuelo: 160 minutos\n",
      "    Destino: cancun\n",
      "    Combustible total: 5000 galones\n",
      "Al tanque externo le quedan 3000 galones de combustible\n",
      "\n",
      "Al tanque interno le quedan 2000 galones de combustible\n",
      "\n"
     ]
    }
   ],
   "source": [
    "#Actualización\n",
    "def informe(destino, *tiempo,**totaltan):\n",
    "    informefin=f\"\"\"Reporte\n",
    "    Tiempo de vuelo: {sum(tiempo)} minutos\n",
    "    Destino: {destino}\n",
    "    Combustible total: {sum(totaltan.values())} galones\"\"\"\n",
    "\n",
    "    for tanque, galones in totaltan.items():\n",
    "        informefin = informefin + f\"\\nAl tanque {tanque} le quedan {galones} galones de combustible\\n\"\n",
    "    return informefin\n",
    "print(informe('cancun',20,60,80,externo=3000,interno=2000))"
   ]
  }
 ],
 "metadata": {
  "interpreter": {
   "hash": "70ac451ed3ef1440a1130f0025849d30de89b55c5925619abdb355821d360158"
  },
  "kernelspec": {
   "display_name": "Python 3.10.2 64-bit (windows store)",
   "language": "python",
   "name": "python3"
  },
  "language_info": {
   "codemirror_mode": {
    "name": "ipython",
    "version": 3
   },
   "file_extension": ".py",
   "mimetype": "text/x-python",
   "name": "python",
   "nbconvert_exporter": "python",
   "pygments_lexer": "ipython3",
   "version": "3.10.2"
  },
  "orig_nbformat": 4
 },
 "nbformat": 4,
 "nbformat_minor": 2
}
